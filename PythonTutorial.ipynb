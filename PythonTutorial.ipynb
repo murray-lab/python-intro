{
 "cells": [
  {
   "cell_type": "markdown",
   "metadata": {},
   "source": [
    "This notebook contains a short introduction to Python, with an emphasis on Numpy for numerical computing and Matplotlib for making plots.\n",
    "\n",
    "-- JM Murray, https://murraylab.uoregon.edu\n",
    "\n",
    "\n",
    "# Topics\n",
    "\n",
    "- All variables are objects: int, float, str\n",
    "- Data Structures: lists and dictionaries\n",
    "- Indexing\n",
    "- For loops\n",
    "- Boolean variables and conditional statements\n",
    "- Functions\n",
    "- Numpy arrays\n",
    "    - Creating new arrays\n",
    "    - Indexing and slicing arrays\n",
    "    - Arithmetic with arrays\n",
    "    - Masking and fancy indexing\n",
    "    - Useful functions for arrays\n",
    "    - Getting help\n",
    "\n",
    "- Plotting with Matplotlib\n",
    "    - Plotting lines\n",
    "    - Scatter plots\n",
    "    - Histograms\n",
    "    - Visualizing matrices\n",
    "    - Subplots\n",
    "    - Error bars"
   ]
  },
  {
   "cell_type": "markdown",
   "metadata": {},
   "source": [
    "# 0. Jupyter notebooks"
   ]
  },
  {
   "cell_type": "markdown",
   "metadata": {},
   "source": [
    "What you are looking at is a Jupyter notebook, which is one way of writing and running Python code (the \"py\" in Jupyter is for Python). While there are different ways of writing and running Python code (e.g. saving the code in a .py file and running it from the command line terminal), notebooks such as this one are an easy way to get started and allow for a more interactive coding experience. "
   ]
  },
  {
   "cell_type": "markdown",
   "metadata": {},
   "source": [
    "A notebook consists of cells, where each cell contains either Python code (if \"Code\" is selected in the dropdown menu above) or text (if \"Markdown\" is selected). A new cell can be added using a button near the top of the screen. Here is a simple cell with some code in it:"
   ]
  },
  {
   "cell_type": "code",
   "execution_count": 171,
   "metadata": {},
   "outputs": [
    {
     "data": {
      "text/plain": [
       "4"
      ]
     },
     "execution_count": 171,
     "metadata": {},
     "output_type": "execute_result"
    }
   ],
   "source": [
    "2+2"
   ]
  },
  {
   "cell_type": "markdown",
   "metadata": {},
   "source": [
    "The above cell can be run by clicking on it and simultaneously pressing Shift+Enter. Try making a change in the cell above and running it to see whether the expected result appears."
   ]
  },
  {
   "cell_type": "markdown",
   "metadata": {},
   "source": [
    "# 1. All variables are objects\n",
    "\n",
    "There are many different types of objects in Python."
   ]
  },
  {
   "cell_type": "markdown",
   "metadata": {},
   "source": [
    "Python allows us to define variables and manipulate and combine them. A number can be an **integer** (i.e. a whole number such as 7) or a **float** (i.e. a number that is not necessarily a whole number, such as 7.1). **Strings** are sequences of characters inside single or double quotation marks. The `print` function allows us to display things."
   ]
  },
  {
   "cell_type": "code",
   "execution_count": 170,
   "metadata": {},
   "outputs": [
    {
     "name": "stdout",
     "output_type": "stream",
     "text": [
      "<class 'int'>\n",
      "<class 'float'>\n",
      "<class 'str'>\n"
     ]
    }
   ],
   "source": [
    "x = 1\n",
    "print(type(x))\n",
    "\n",
    "y = 2.0\n",
    "print(type(y))\n",
    "\n",
    "z = 'Hello world!'\n",
    "print(type(z))"
   ]
  },
  {
   "cell_type": "markdown",
   "metadata": {},
   "source": [
    "Note that variable names may combine letters and numbers (e.g. `x1` or `x_1`), but should not begin with a number or contain any special characters other than underscores (so don't use `1x` or `x%!` as a variable name).\n",
    "\n",
    "We can also convert from one type to another (when such conversion makes sense):"
   ]
  },
  {
   "cell_type": "code",
   "execution_count": 39,
   "metadata": {},
   "outputs": [
    {
     "name": "stdout",
     "output_type": "stream",
     "text": [
      "1.0\n"
     ]
    }
   ],
   "source": [
    "print(float(x))"
   ]
  },
  {
   "cell_type": "markdown",
   "metadata": {},
   "source": [
    "Basic arithmetic operations work as you would expect. By the way, we can also print multiple things in the same line by giving the `print` function multiple arguments separated by commas."
   ]
  },
  {
   "cell_type": "code",
   "execution_count": 40,
   "metadata": {},
   "outputs": [
    {
     "name": "stdout",
     "output_type": "stream",
     "text": [
      "Addition:  3.0\n",
      "Multiplication:  6.0\n",
      "Exponentiation:  8.0\n"
     ]
    }
   ],
   "source": [
    "print('Addition: ', x + y)\n",
    "print('Multiplication: ', 3*y)\n",
    "print('Exponentiation: ', y**3)"
   ]
  },
  {
   "cell_type": "markdown",
   "metadata": {},
   "source": [
    "Variables can be combined to create new variables."
   ]
  },
  {
   "cell_type": "code",
   "execution_count": 18,
   "metadata": {},
   "outputs": [
    {
     "name": "stdout",
     "output_type": "stream",
     "text": [
      "3.0\n"
     ]
    }
   ],
   "source": [
    "z = x + y\n",
    "print(z)"
   ]
  },
  {
   "cell_type": "markdown",
   "metadata": {},
   "source": [
    "We can also reassign a variable."
   ]
  },
  {
   "cell_type": "code",
   "execution_count": 19,
   "metadata": {},
   "outputs": [
    {
     "name": "stdout",
     "output_type": "stream",
     "text": [
      "8.0\n"
     ]
    }
   ],
   "source": [
    "y = 4.0*y  # Comment: Remember that the equals sign in Python is an assignment, not a mathematical equality!\n",
    "print(y)"
   ]
  },
  {
   "cell_type": "markdown",
   "metadata": {},
   "source": [
    "Remember that it's often useful to add comments such as the one above to your code using # so that you'll know what you were thinking when you go back to read it later!"
   ]
  },
  {
   "cell_type": "markdown",
   "metadata": {},
   "source": [
    "## Exercises"
   ]
  },
  {
   "cell_type": "markdown",
   "metadata": {},
   "source": [
    "1.1. In the box below, add a float number to an integer. What type is the resulting variable?"
   ]
  },
  {
   "cell_type": "code",
   "execution_count": null,
   "metadata": {},
   "outputs": [],
   "source": []
  },
  {
   "cell_type": "markdown",
   "metadata": {},
   "source": [
    "1.2. In the first box below, add two strings together and print the result. Also multiply a string by an integer and print the result. In the second box below, write a sentence or two (make sure to select \"Markdown\" from the drop-down menu!) about your inferred conclusions about how addition and multiplication work when applied to strings."
   ]
  },
  {
   "cell_type": "code",
   "execution_count": null,
   "metadata": {},
   "outputs": [],
   "source": []
  },
  {
   "cell_type": "code",
   "execution_count": null,
   "metadata": {},
   "outputs": [],
   "source": []
  },
  {
   "cell_type": "markdown",
   "metadata": {},
   "source": [
    "# 2. Data structures\n",
    "\n",
    "Numbers and other objects can be grouped into different types of data structures. Two that we will use are lists and dictionaries."
   ]
  },
  {
   "cell_type": "markdown",
   "metadata": {},
   "source": [
    "## Lists\n",
    "\n",
    "A **list** is just what it sounds like. Lists are enclosed by square brackets. It can be a list of numbers such as strings (which can be enclosed in either single or double quotes in Python), as well as things that aren't numbers, or even lists of lists."
   ]
  },
  {
   "cell_type": "code",
   "execution_count": 1,
   "metadata": {},
   "outputs": [
    {
     "name": "stdout",
     "output_type": "stream",
     "text": [
      "<class 'list'>\n",
      "[1, 3, 5]\n"
     ]
    }
   ],
   "source": [
    "list1 = [1,3,5]\n",
    "print(type(list1))\n",
    "print(list1)"
   ]
  },
  {
   "cell_type": "code",
   "execution_count": 2,
   "metadata": {},
   "outputs": [
    {
     "name": "stdout",
     "output_type": "stream",
     "text": [
      "['Bacon', 'Eggs', 42]\n",
      "[[1, 3, 5], ['Bacon', 'Eggs', 42]]\n",
      "3\n"
     ]
    }
   ],
   "source": [
    "list2 = ['Bacon', 'Eggs', 42]\n",
    "print(list2)\n",
    "\n",
    "list3 = [list1, list2]\n",
    "print(list3)\n",
    "\n",
    "# Find out how long a list is:\n",
    "print(len(list2))"
   ]
  },
  {
   "cell_type": "markdown",
   "metadata": {},
   "source": [
    "A list might look like a mathematical vector, but it's not (we'll learn about arrays, which do function as vectors and matrices, later on). For instance, if we add two lists, we get a longer list rather than adding up the individual elements."
   ]
  },
  {
   "cell_type": "code",
   "execution_count": 4,
   "metadata": {},
   "outputs": [
    {
     "name": "stdout",
     "output_type": "stream",
     "text": [
      "[1, 3, 5, 'Bacon', 'Eggs', 42]\n"
     ]
    }
   ],
   "source": [
    "print(list1 + list2)"
   ]
  },
  {
   "cell_type": "markdown",
   "metadata": {},
   "source": [
    "We can access the `i`th element of a list using `my_list[i]`. We refer to `i` as an **index**, which refers to an element of `my_list`."
   ]
  },
  {
   "cell_type": "code",
   "execution_count": 34,
   "metadata": {},
   "outputs": [
    {
     "name": "stdout",
     "output_type": "stream",
     "text": [
      "3\n"
     ]
    }
   ],
   "source": [
    "print(list1[1])"
   ]
  },
  {
   "cell_type": "markdown",
   "metadata": {},
   "source": [
    "Were you expecting this to return 1 since that's the first element of `list1`? Be careful, since indexing starts with 0 in Python (unlike Matlab, where it starts with 1). Here are all of the elements in the list:"
   ]
  },
  {
   "cell_type": "code",
   "execution_count": 35,
   "metadata": {},
   "outputs": [
    {
     "name": "stdout",
     "output_type": "stream",
     "text": [
      "1 3 5\n"
     ]
    }
   ],
   "source": [
    "print(list1[0], list1[1], list1[2])"
   ]
  },
  {
   "cell_type": "markdown",
   "metadata": {},
   "source": [
    "A handy trick is to count backwards from the end of a list using negative numbers."
   ]
  },
  {
   "cell_type": "code",
   "execution_count": 36,
   "metadata": {},
   "outputs": [
    {
     "name": "stdout",
     "output_type": "stream",
     "text": [
      "5 3 1\n"
     ]
    }
   ],
   "source": [
    "print(list1[-1], list1[-2], list1[-3])"
   ]
  },
  {
   "cell_type": "markdown",
   "metadata": {},
   "source": [
    "We'll discuss more about indexing later on when we introduce arrays."
   ]
  },
  {
   "cell_type": "markdown",
   "metadata": {},
   "source": [
    "## Dictionaries\n",
    "\n",
    "A **dictionary** is composed of **keys** and **values** and is enclosed by curly braces. A key is a name that we use to retrieve a variable. For example, we might want to create a dictionary of phone numbers, then look up the phone number of a particular person."
   ]
  },
  {
   "cell_type": "code",
   "execution_count": 9,
   "metadata": {},
   "outputs": [
    {
     "name": "stdout",
     "output_type": "stream",
     "text": [
      "659656245\n"
     ]
    }
   ],
   "source": [
    "phonebook = {'Donald': 659656245, 'Santiago': 780859050, 'David': 289585404}\n",
    "print(phonebook['Donald'])"
   ]
  },
  {
   "cell_type": "markdown",
   "metadata": {},
   "source": [
    "We can add a new entry to the dictionary."
   ]
  },
  {
   "cell_type": "code",
   "execution_count": 10,
   "metadata": {},
   "outputs": [
    {
     "name": "stdout",
     "output_type": "stream",
     "text": [
      "{'Donald': 659656245, 'Santiago': 780859050, 'David': 289585404, 'Jim': 8502745642}\n"
     ]
    }
   ],
   "source": [
    "phonebook['Jim'] = 8502745642\n",
    "print(phonebook)"
   ]
  },
  {
   "cell_type": "markdown",
   "metadata": {},
   "source": [
    "The values in a dictionary can be changed, and they do not necessarily have to be numbers. For example, we might want to have a list of multiple phone numbers for one person."
   ]
  },
  {
   "cell_type": "code",
   "execution_count": 11,
   "metadata": {},
   "outputs": [
    {
     "name": "stdout",
     "output_type": "stream",
     "text": [
      "{'Donald': [9194280943, 5418675309], 'Santiago': 780859050, 'David': 289585404, 'Jim': 8502745642}\n"
     ]
    }
   ],
   "source": [
    "phonebook['Donald'] = [9194280943, 5418675309]\n",
    "print(phonebook)"
   ]
  },
  {
   "cell_type": "markdown",
   "metadata": {},
   "source": [
    "## Exercise\n",
    "\n",
    "2.1. In the cell below, add a new key-value pair to the existing dictionary `phonebook` with your own name and phone number and print the result."
   ]
  },
  {
   "cell_type": "code",
   "execution_count": null,
   "metadata": {},
   "outputs": [],
   "source": []
  },
  {
   "cell_type": "markdown",
   "metadata": {},
   "source": [
    "# 3. For loops"
   ]
  },
  {
   "cell_type": "markdown",
   "metadata": {},
   "source": [
    "One reason that computers are so useful is because they are great at doing similar things many times. The `for` loop is one of the basic structures that allows us to do this. Here is a very basic example:"
   ]
  },
  {
   "cell_type": "code",
   "execution_count": 1,
   "metadata": {},
   "outputs": [
    {
     "name": "stdout",
     "output_type": "stream",
     "text": [
      "2\n",
      "6\n",
      "10\n"
     ]
    }
   ],
   "source": [
    "for n in [1,3,5]:\n",
    "    print(2*n)"
   ]
  },
  {
   "cell_type": "markdown",
   "metadata": {},
   "source": [
    "The above example is called a *for loop* because the indented part is repeated several times (i.e. looped), with `n` taking one of the values in the list during each iteration.\n",
    "\n",
    "A very handy thing to use with for loops is `range()`, which essentially creates a sequence with a range of sequential values (starting with 0, not 1!):"
   ]
  },
  {
   "cell_type": "code",
   "execution_count": 5,
   "metadata": {},
   "outputs": [
    {
     "name": "stdout",
     "output_type": "stream",
     "text": [
      "0\n",
      "1\n",
      "2\n",
      "3\n",
      "4\n"
     ]
    }
   ],
   "source": [
    "for n in range(5):\n",
    "    print(n)"
   ]
  },
  {
   "cell_type": "markdown",
   "metadata": {},
   "source": [
    "As another example, let's make a counter that counts how many times we have iterated over the loop."
   ]
  },
  {
   "cell_type": "code",
   "execution_count": 168,
   "metadata": {},
   "outputs": [
    {
     "name": "stdout",
     "output_type": "stream",
     "text": [
      "1\n",
      "2\n",
      "3\n",
      "4\n",
      "5\n"
     ]
    }
   ],
   "source": [
    "count = 0\n",
    "for n in range(5):\n",
    "    count += 1  # Note: This is a shortcut notation that does the same thing as count=count+1\n",
    "    print(count)"
   ]
  },
  {
   "cell_type": "markdown",
   "metadata": {},
   "source": [
    "We can include more than one operation inside of the for loop, remembering to indent everything that we want to be looped over. "
   ]
  },
  {
   "cell_type": "code",
   "execution_count": 6,
   "metadata": {},
   "outputs": [
    {
     "name": "stdout",
     "output_type": "stream",
     "text": [
      "0 0\n",
      "1 1\n",
      "4 8\n",
      "9 27\n",
      "16 64\n"
     ]
    }
   ],
   "source": [
    "for n in range(5):\n",
    "    n_squared = n**2\n",
    "    n_cubed = n**3\n",
    "    print(n_squared, n_cubed)"
   ]
  },
  {
   "cell_type": "markdown",
   "metadata": {},
   "source": [
    "Rather than printing each iteration, let's replace each element in a list with its square and then print it at the end. Note that, if a command appears with no indent, that signals that the loop has ended."
   ]
  },
  {
   "cell_type": "code",
   "execution_count": 9,
   "metadata": {},
   "outputs": [
    {
     "name": "stdout",
     "output_type": "stream",
     "text": [
      "[1, 4, 9, 16, 25]\n"
     ]
    }
   ],
   "source": [
    "n_list = [1,2,3,4,5]\n",
    "\n",
    "for i in range(len(n_list)):\n",
    "    n = n_list[i]\n",
    "    n_list[i] = n**2\n",
    "    \n",
    "print(n_list)"
   ]
  },
  {
   "cell_type": "markdown",
   "metadata": {},
   "source": [
    "Note that in the above example we had to use `i` to keep track of the index and `n` to keep track of the corresponding value in the array. A handy way to shorten things is to use `enumerate`."
   ]
  },
  {
   "cell_type": "code",
   "execution_count": 10,
   "metadata": {},
   "outputs": [
    {
     "name": "stdout",
     "output_type": "stream",
     "text": [
      "[1, 4, 9, 16, 25]\n"
     ]
    }
   ],
   "source": [
    "n_list = [1,2,3,4,5]\n",
    "\n",
    "for i, n in enumerate(n_list):  # The first variable after 'for' is the index, and the second is the corresponding value\n",
    "    n_list[i] = n**2\n",
    "    \n",
    "print(n_list)"
   ]
  },
  {
   "cell_type": "markdown",
   "metadata": {},
   "source": [
    "## Exercises"
   ]
  },
  {
   "cell_type": "markdown",
   "metadata": {},
   "source": [
    "3.1. In the cell below, two lists have been created. Create a new list, `list_c` (you might just want to set all of its elements to zero initially, then replace them later), and use a for loop to set each element in the new list equal to the sum of the corresponding elements from the first two lists. Print the result and show that `list_c` is `[3,7,11,15]`."
   ]
  },
  {
   "cell_type": "code",
   "execution_count": null,
   "metadata": {},
   "outputs": [],
   "source": [
    "list_a = [1,3,5,7]\n",
    "list_b = [2,4,6,8]\n",
    "\n",
    "### Your code here ###"
   ]
  },
  {
   "cell_type": "markdown",
   "metadata": {},
   "source": [
    "3.2. In the cell below, an array of temperatures in degrees Celsius has been created. Use a for loop and the conversion formula `f = 9/5*c + 32` to print each temperature in both Celsius and Fahrenheit."
   ]
  },
  {
   "cell_type": "code",
   "execution_count": null,
   "metadata": {},
   "outputs": [],
   "source": [
    "celsius = [0, 10, 20, 30]\n",
    "\n",
    "### Your code here ###"
   ]
  },
  {
   "cell_type": "markdown",
   "metadata": {},
   "source": [
    "3.3. In the cell below, use a for loop to add up all of the numbers from 1 to 100. Print the result."
   ]
  },
  {
   "cell_type": "code",
   "execution_count": null,
   "metadata": {},
   "outputs": [],
   "source": []
  },
  {
   "cell_type": "markdown",
   "metadata": {},
   "source": [
    "For personal enrichment, take a look at this inspiring story related to the last exercise: https://nrich.maths.org/2478"
   ]
  },
  {
   "cell_type": "markdown",
   "metadata": {},
   "source": [
    "# 4. Boolean operations and conditional statements"
   ]
  },
  {
   "cell_type": "markdown",
   "metadata": {},
   "source": [
    "Boolean operations return values that are either true or false. Some examples are \"greater than\", \"less than\" and \"equal to\", as shown in the following examples."
   ]
  },
  {
   "cell_type": "code",
   "execution_count": 12,
   "metadata": {},
   "outputs": [
    {
     "name": "stdout",
     "output_type": "stream",
     "text": [
      "False\n",
      "True\n"
     ]
    }
   ],
   "source": [
    "print(1 > 2)\n",
    "print(1 < 2)"
   ]
  },
  {
   "cell_type": "code",
   "execution_count": 17,
   "metadata": {},
   "outputs": [
    {
     "name": "stdout",
     "output_type": "stream",
     "text": [
      "False\n",
      "True\n",
      "True\n"
     ]
    }
   ],
   "source": [
    "print(1 == 2)  # Note that testing equality requires two equal signs, unlike the assignment operator \"=\" we've seen so far.\n",
    "print(2 == 2)\n",
    "print(1 != 2)  # The operator \"!=\" means \"not equal\""
   ]
  },
  {
   "cell_type": "markdown",
   "metadata": {},
   "source": [
    "The above examples computed Boolean values by comparing numerical values. There are also operations that allow us to manipulate Boolean values using logical rules."
   ]
  },
  {
   "cell_type": "code",
   "execution_count": 15,
   "metadata": {},
   "outputs": [
    {
     "name": "stdout",
     "output_type": "stream",
     "text": [
      "True\n",
      "False\n",
      "False\n"
     ]
    }
   ],
   "source": [
    "# For AND, both things being compared must be True for the result to be True:\n",
    "print(True and True)\n",
    "print(True and False)\n",
    "print(False and False)"
   ]
  },
  {
   "cell_type": "code",
   "execution_count": 16,
   "metadata": {},
   "outputs": [
    {
     "name": "stdout",
     "output_type": "stream",
     "text": [
      "True\n",
      "True\n",
      "True\n",
      "False\n"
     ]
    }
   ],
   "source": [
    "# For OR, at least one of the things must be True for the result to be True:\n",
    "print(True or True)\n",
    "print(True or False)\n",
    "print(False or False or True)\n",
    "print(False or False)"
   ]
  },
  {
   "cell_type": "markdown",
   "metadata": {},
   "source": [
    "The control statements `if`, `elif`, and `else` enable us to choose what to do depending on Boolean values. As with for loops, all of the commands that are subject to the control statements must be indented. Below are a few examples."
   ]
  },
  {
   "cell_type": "code",
   "execution_count": 21,
   "metadata": {},
   "outputs": [
    {
     "name": "stdout",
     "output_type": "stream",
     "text": [
      "x is less than 10\n"
     ]
    }
   ],
   "source": [
    "x = 0\n",
    "if x < 10:\n",
    "    print('x is less than 10')  # This part is run only if the control statement is True"
   ]
  },
  {
   "cell_type": "code",
   "execution_count": 22,
   "metadata": {},
   "outputs": [],
   "source": [
    "x = 12\n",
    "if x < 10:\n",
    "    print('x is less than 10')  # This part is run only if the control statement is True"
   ]
  },
  {
   "cell_type": "code",
   "execution_count": 23,
   "metadata": {},
   "outputs": [
    {
     "name": "stdout",
     "output_type": "stream",
     "text": [
      "x is greater than or equal to 10\n"
     ]
    }
   ],
   "source": [
    "x = 12\n",
    "if x < 10:\n",
    "    print('x is less than 10')  # This part gets ignored since the control condition is False\n",
    "elif x >= 10:  # \"elif\" means \"else if\", i.e. check this condition if the first condition was False\n",
    "    print('x is greater than or equal to 10')"
   ]
  },
  {
   "cell_type": "code",
   "execution_count": 24,
   "metadata": {},
   "outputs": [
    {
     "name": "stdout",
     "output_type": "stream",
     "text": [
      "x is greater than (and not equal to) 10\n"
     ]
    }
   ],
   "source": [
    "x = 12\n",
    "if x < 10:\n",
    "    print('x is less than 10')\n",
    "elif x == 10:\n",
    "    print('x is equal to 10')\n",
    "else:  # This part is run if everything tried above was False.\n",
    "    print('x is greater than (and not equal to) 10')"
   ]
  },
  {
   "cell_type": "markdown",
   "metadata": {},
   "source": [
    "## Exercises\n",
    "\n",
    "4.1. The operation `x%y` gives the remainder after dividing `x` by `y`. Use this operator and conditional statements to print \"x is even\" or \"x is odd\" depending on whether `x` is even or odd."
   ]
  },
  {
   "cell_type": "code",
   "execution_count": null,
   "metadata": {},
   "outputs": [],
   "source": []
  },
  {
   "cell_type": "markdown",
   "metadata": {},
   "source": [
    "4.2. In the cell below, two lists have been created. Create a new list, `list_c`, and use a for loop to set each entry of the new list to `1` if the corresponding entries of the first two lists are the same, or `0` if they are different. Print the new list, which should be equal to `[0,1,0,0]`."
   ]
  },
  {
   "cell_type": "code",
   "execution_count": null,
   "metadata": {},
   "outputs": [],
   "source": [
    "list_a = [1,3,5,7]\n",
    "list_b = [2,3,4,5]\n",
    "\n",
    "### Your code here ###"
   ]
  },
  {
   "cell_type": "markdown",
   "metadata": {},
   "source": [
    "# 5. Functions"
   ]
  },
  {
   "cell_type": "markdown",
   "metadata": {},
   "source": [
    "Just like in mathematics, a function allows us to do an operation on some input. Functions are very handy because they allow us to perform the same operation on different inputs without having to copy and paste code each time we want to apply the operation to a new input. Here is a simple example:"
   ]
  },
  {
   "cell_type": "code",
   "execution_count": 27,
   "metadata": {},
   "outputs": [],
   "source": [
    "def square(z):\n",
    "    z_squared = z**2\n",
    "    return z_squared"
   ]
  },
  {
   "cell_type": "markdown",
   "metadata": {},
   "source": [
    "The syntax for defining a function is always the same. `def` tells us that we are defining a function. Next comes the name that we want to give the function, followed by its input (or inputs) and a colon. The rest of the function must be indented. In the case where a function is supposed to give us something back, it ends with `return`, followed by the thing that it gives us back. We can apply the function to a few different inputs as follows:"
   ]
  },
  {
   "cell_type": "code",
   "execution_count": 30,
   "metadata": {},
   "outputs": [
    {
     "name": "stdout",
     "output_type": "stream",
     "text": [
      "25\n",
      "36\n"
     ]
    }
   ],
   "source": [
    "print(square(5))\n",
    "print(square(-6))"
   ]
  },
  {
   "cell_type": "markdown",
   "metadata": {},
   "source": [
    "An important point about functions concerns **namespaces**. Any variables that are defined inside of the function exist only inside of the function and cease to exist after the function is run. In this above example, this means that we will get an error if we try to print the variable `z_squared`."
   ]
  },
  {
   "cell_type": "code",
   "execution_count": 31,
   "metadata": {},
   "outputs": [
    {
     "ename": "NameError",
     "evalue": "name 'z_squared' is not defined",
     "output_type": "error",
     "traceback": [
      "\u001b[0;31m---------------------------------------------------------------------------\u001b[0m",
      "\u001b[0;31mNameError\u001b[0m                                 Traceback (most recent call last)",
      "\u001b[0;32m<ipython-input-31-986b2941a320>\u001b[0m in \u001b[0;36m<module>\u001b[0;34m\u001b[0m\n\u001b[0;32m----> 1\u001b[0;31m \u001b[0mprint\u001b[0m\u001b[0;34m(\u001b[0m\u001b[0mz_squared\u001b[0m\u001b[0;34m)\u001b[0m\u001b[0;34m\u001b[0m\u001b[0;34m\u001b[0m\u001b[0m\n\u001b[0m",
      "\u001b[0;31mNameError\u001b[0m: name 'z_squared' is not defined"
     ]
    }
   ],
   "source": [
    "# Uncomment the line of code below and run the cell to see the error message: \n",
    "#print(z_squared)"
   ]
  },
  {
   "cell_type": "markdown",
   "metadata": {},
   "source": [
    "Further, if we define variables with the same name both inside and outside of a function. When the function is being run, the variable takes the value that it's assigned inside of the function. When the function isn't being run, though, the variable takes the value that it was assigned outside of the function."
   ]
  },
  {
   "cell_type": "code",
   "execution_count": 33,
   "metadata": {},
   "outputs": [
    {
     "name": "stdout",
     "output_type": "stream",
     "text": [
      "4\n",
      "42\n"
     ]
    }
   ],
   "source": [
    "x = 42\n",
    "\n",
    "def two_plus_two():  # note that a function doesn't have to take any inputs!\n",
    "    x = 2\n",
    "    return x + x\n",
    "\n",
    "print(two_plus_two())\n",
    "print(x)  # Remember: x takes the value here that it was assigned outside of the function"
   ]
  },
  {
   "cell_type": "markdown",
   "metadata": {},
   "source": [
    "## Exercises\n",
    "\n",
    "5.1. Write a function that converts Celsius temperatures to Fahrenheit (f = 9/5 * c + 32). Use a for loop together with this function to print the Fahrenheit values corresponding to the Celsius values `[0,10,20,30]`."
   ]
  },
  {
   "cell_type": "code",
   "execution_count": null,
   "metadata": {},
   "outputs": [],
   "source": []
  },
  {
   "cell_type": "markdown",
   "metadata": {},
   "source": [
    "5.2. Write a function `f(n)` that adds up all of the numbers from 1 to `n` and returns the total."
   ]
  },
  {
   "cell_type": "code",
   "execution_count": null,
   "metadata": {},
   "outputs": [],
   "source": []
  },
  {
   "cell_type": "markdown",
   "metadata": {},
   "source": [
    "5.3. Write a function `greater_than_10(x)` that prints the statement \"input is greater than 10\" or \"input is less than 10\" depending on whether the input is greater than or less than 10."
   ]
  },
  {
   "cell_type": "code",
   "execution_count": null,
   "metadata": {},
   "outputs": [],
   "source": []
  },
  {
   "cell_type": "markdown",
   "metadata": {},
   "source": [
    "5.4. A function can take multiple arguments separated by a comma. Write a function `add_together(x,y)` that adds together its two arguments and returns the sum."
   ]
  },
  {
   "cell_type": "code",
   "execution_count": null,
   "metadata": {},
   "outputs": [],
   "source": []
  },
  {
   "cell_type": "markdown",
   "metadata": {},
   "source": [
    "# 6. Numpy arrays\n",
    "\n",
    "Remember that Python is a general-purpose programming language. Numerical and scientific computing is just one of the many things that it can do. The part of Python that is specialized for numerical computation is called Numpy, and it is a collection (or \"library\") of functions and objects that allow us to do things like generate random numbers, take averages, and lots of other useful things.\n",
    "\n",
    "Two things are especially important when using Numpy. First, if we want to use functions or objects from numpy, we need to *import* Numpy. This is usually done at the top of a notebook or script, but can be done anywhere.\n"
   ]
  },
  {
   "cell_type": "code",
   "execution_count": 8,
   "metadata": {},
   "outputs": [],
   "source": [
    "import numpy as np"
   ]
  },
  {
   "cell_type": "markdown",
   "metadata": {},
   "source": [
    "The second important thing is that, in order to use a function or object from Numpy, we need to precede it with `np.`, which tells Python that we are asking for something that is part of Numpy. So, for example, the circumference of the unit circle is given by the following, where we make use of the special variable `pi` that is part of Numpy:"
   ]
  },
  {
   "cell_type": "code",
   "execution_count": 9,
   "metadata": {},
   "outputs": [
    {
     "data": {
      "text/plain": [
       "6.283185307179586"
      ]
     },
     "execution_count": 9,
     "metadata": {},
     "output_type": "execute_result"
    }
   ],
   "source": [
    "2*np.pi"
   ]
  },
  {
   "cell_type": "markdown",
   "metadata": {},
   "source": [
    "Note that the last part of our import statement above, `as np` just introduces a shorthand for Numpy, allowing us to write, for example, `np.pi` rather than `numpy.pi`."
   ]
  },
  {
   "cell_type": "markdown",
   "metadata": {},
   "source": [
    "Numpy **arrays** can be thought of as vectors or matrices (or their higher-dimensional generalizations). The data that we analyze throughout this course will generally be stored as arrays, so learning how to understand and manipulate them is very important."
   ]
  },
  {
   "cell_type": "markdown",
   "metadata": {},
   "source": [
    "## Creating new arrays and indexing"
   ]
  },
  {
   "cell_type": "markdown",
   "metadata": {},
   "source": [
    "Arrays can be created by hand as follows:"
   ]
  },
  {
   "cell_type": "code",
   "execution_count": 10,
   "metadata": {},
   "outputs": [
    {
     "name": "stdout",
     "output_type": "stream",
     "text": [
      "[1 3 5 7 9]\n",
      "[[ 2  4  6]\n",
      " [ 8 10 12]]\n"
     ]
    }
   ],
   "source": [
    "# a one-dimensional array, i.e. a vector:\n",
    "a1 = np.array([1,3,5,7,9])  \n",
    "print(a1)\n",
    "\n",
    "# a two-dimensional array, i.e. a matrix:\n",
    "a2 = np.array([[2, 4, 6],  # Note that we are allowed to continue on the next line if inside of a parenthesis\n",
    "               [8, 10, 12]])  \n",
    "print(a2)"
   ]
  },
  {
   "cell_type": "markdown",
   "metadata": {},
   "source": [
    "As we did with lists above, we can use square brackets to obtain just part of an array. First, let's use indices to get individual elements of an array."
   ]
  },
  {
   "cell_type": "code",
   "execution_count": 11,
   "metadata": {},
   "outputs": [
    {
     "name": "stdout",
     "output_type": "stream",
     "text": [
      "1\n",
      "3\n",
      "5\n"
     ]
    }
   ],
   "source": [
    "a1 = np.array([1,3,5,7,9])\n",
    "print(a1[0])  # remember that indexing starts with 0, not 1!\n",
    "print(a1[1])\n",
    "print(a1[2])  "
   ]
  },
  {
   "cell_type": "markdown",
   "metadata": {},
   "source": [
    "As with lists, we can also count backwards from the end with negative indices."
   ]
  },
  {
   "cell_type": "code",
   "execution_count": 59,
   "metadata": {},
   "outputs": [
    {
     "name": "stdout",
     "output_type": "stream",
     "text": [
      "9\n",
      "7\n",
      "5\n"
     ]
    }
   ],
   "source": [
    "print(a1[-1])\n",
    "print(a1[-2])\n",
    "print(a1[-3])  "
   ]
  },
  {
   "cell_type": "markdown",
   "metadata": {},
   "source": [
    "We can use this type of indexing to reassign elements in an array, as in the following examples."
   ]
  },
  {
   "cell_type": "code",
   "execution_count": 12,
   "metadata": {},
   "outputs": [
    {
     "name": "stdout",
     "output_type": "stream",
     "text": [
      "[1 3 5 7 9]\n",
      "[42  3  5  7  9]\n",
      "[42  3  5  7 43]\n"
     ]
    }
   ],
   "source": [
    "a1 = np.array([1,3,5,7,9]) \n",
    "print(a1)  # the array before making any changes\n",
    "\n",
    "a1[0] = 42  # change the first element and print the result\n",
    "print(a1)\n",
    "\n",
    "a1[-1] = 43  # change the last element and print the result\n",
    "print(a1)"
   ]
  },
  {
   "cell_type": "markdown",
   "metadata": {},
   "source": [
    "We can also \"slice\" an array, where a **slice** refers to a range of incides. The slice `[i:j]` returns a smaller array that starts with the `i`th entry (including this entry) and continues to the `j`th entry (not including this entry). (Remember that indexes start from 0, not 1!)"
   ]
  },
  {
   "cell_type": "code",
   "execution_count": 66,
   "metadata": {},
   "outputs": [
    {
     "name": "stdout",
     "output_type": "stream",
     "text": [
      "[5 7]\n"
     ]
    }
   ],
   "source": [
    "print(a1[2:4])"
   ]
  },
  {
   "cell_type": "markdown",
   "metadata": {},
   "source": [
    "Similarly, we can use `[:i]` to return all of the elements up to (but not including) index `i`, or `[i:]` to return all of the elements starting from (and including) index `i`, as in the following examples."
   ]
  },
  {
   "cell_type": "code",
   "execution_count": 68,
   "metadata": {},
   "outputs": [
    {
     "name": "stdout",
     "output_type": "stream",
     "text": [
      "[1 3]\n",
      "[5 7 9]\n"
     ]
    }
   ],
   "source": [
    "a1 = np.array([1,3,5,7,9])\n",
    "print(a1[:2])\n",
    "print(a1[2:])"
   ]
  },
  {
   "cell_type": "markdown",
   "metadata": {},
   "source": [
    "Just as we were able to reassign individual elements in an array above, we can reassign slices in the same way."
   ]
  },
  {
   "cell_type": "code",
   "execution_count": 69,
   "metadata": {},
   "outputs": [
    {
     "name": "stdout",
     "output_type": "stream",
     "text": [
      "[23 45  5  7  9]\n"
     ]
    }
   ],
   "source": [
    "a1[:2] = np.array([23, 45])\n",
    "print(a1)"
   ]
  },
  {
   "cell_type": "markdown",
   "metadata": {},
   "source": [
    "For a multidimensional array, indices along each dimension should be separated by a comma. For a two-dimensional array, the first index refers to the row, and the second to the column."
   ]
  },
  {
   "cell_type": "code",
   "execution_count": 71,
   "metadata": {},
   "outputs": [
    {
     "name": "stdout",
     "output_type": "stream",
     "text": [
      "4\n"
     ]
    }
   ],
   "source": [
    "a2 = np.array([[2, 4, 6],\n",
    "              [8, 10, 12]])\n",
    "print(a2[0,1])"
   ]
  },
  {
   "cell_type": "markdown",
   "metadata": {},
   "source": [
    "We can also get an entire row or an entire column of a two-dimensional array as in the following example. Here, we can think of `:` as a slice that includes all elements."
   ]
  },
  {
   "cell_type": "code",
   "execution_count": 72,
   "metadata": {},
   "outputs": [
    {
     "name": "stdout",
     "output_type": "stream",
     "text": [
      "[2 4 6]\n",
      "[ 6 12]\n"
     ]
    }
   ],
   "source": [
    "print(a2[0,:])  # print the first (i.e. 0th) row\n",
    "print(a2[:,-1])  # print the last column"
   ]
  },
  {
   "cell_type": "markdown",
   "metadata": {},
   "source": [
    "It is often useful to ask how long an array is along each dimension."
   ]
  },
  {
   "cell_type": "code",
   "execution_count": 73,
   "metadata": {},
   "outputs": [
    {
     "name": "stdout",
     "output_type": "stream",
     "text": [
      "(5,)\n",
      "(2, 3)\n"
     ]
    }
   ],
   "source": [
    "print(np.shape(a1))  # for a one-dimensional array, we could also use len(a1)\n",
    "print(np.shape(a2))"
   ]
  },
  {
   "cell_type": "markdown",
   "metadata": {},
   "source": [
    "One common way to quickly create a new array is to fill it with zeros, as follows, where the argument gives the length of the array:"
   ]
  },
  {
   "cell_type": "code",
   "execution_count": 39,
   "metadata": {},
   "outputs": [
    {
     "name": "stdout",
     "output_type": "stream",
     "text": [
      "[0. 0. 0. 0. 0.]\n"
     ]
    }
   ],
   "source": [
    "a3 = np.zeros(5)\n",
    "print(a3)"
   ]
  },
  {
   "cell_type": "markdown",
   "metadata": {},
   "source": [
    "If we want to create a two-dimensional array (i.e. a matrix) filled with zeros, the argument should give the dimensions as `(dim1, dim2)`."
   ]
  },
  {
   "cell_type": "code",
   "execution_count": 40,
   "metadata": {},
   "outputs": [
    {
     "name": "stdout",
     "output_type": "stream",
     "text": [
      "[[0. 0. 0. 0. 0.]\n",
      " [0. 0. 0. 0. 0.]\n",
      " [0. 0. 0. 0. 0.]]\n"
     ]
    }
   ],
   "source": [
    "a4 = np.zeros((3,5))\n",
    "print(a4)"
   ]
  },
  {
   "cell_type": "markdown",
   "metadata": {},
   "source": [
    "If we want the array to have uniform nonzero values, we can similarly use `np.ones`."
   ]
  },
  {
   "cell_type": "code",
   "execution_count": 13,
   "metadata": {},
   "outputs": [
    {
     "name": "stdout",
     "output_type": "stream",
     "text": [
      "A vector of ones:\n",
      "[1. 1. 1. 1. 1.]\n",
      "A matrix of sevens:\n",
      "[[7. 7. 7. 7. 7.]\n",
      " [7. 7. 7. 7. 7.]\n",
      " [7. 7. 7. 7. 7.]]\n"
     ]
    }
   ],
   "source": [
    "a5 = np.ones(5)\n",
    "print('A vector of ones:')\n",
    "print(a5)\n",
    "\n",
    "a6 = 7*np.ones((3,5))\n",
    "print('A matrix of sevens:')\n",
    "print(a6)"
   ]
  },
  {
   "cell_type": "markdown",
   "metadata": {},
   "source": [
    "Why would we want to have an array full of zeros or ones? A common thing to do is to initialize an array this way, then to change the elements one-by-one to the values that we want, according to some rule. This is often done with a for loop. In the following example, we'll make an array with the squares of all of the integers from 1 to 10."
   ]
  },
  {
   "cell_type": "code",
   "execution_count": 52,
   "metadata": {},
   "outputs": [
    {
     "name": "stdout",
     "output_type": "stream",
     "text": [
      "[  1.   4.   9.  16.  25.  36.  49.  64.  81. 100.]\n"
     ]
    }
   ],
   "source": [
    "squares = np.zeros(10)\n",
    "\n",
    "for i in range(10):\n",
    "    squares[i] = (i+1)**2  # use i+1 here since we want to start from 1, not 0\n",
    "    \n",
    "print(squares)"
   ]
  },
  {
   "cell_type": "markdown",
   "metadata": {},
   "source": [
    "Or, in the next example, we can use nested for loops to generate a multiplication table."
   ]
  },
  {
   "cell_type": "code",
   "execution_count": 51,
   "metadata": {},
   "outputs": [
    {
     "name": "stdout",
     "output_type": "stream",
     "text": [
      "[[  1.   2.   3.   4.   5.   6.   7.   8.   9.  10.]\n",
      " [  2.   4.   6.   8.  10.  12.  14.  16.  18.  20.]\n",
      " [  3.   6.   9.  12.  15.  18.  21.  24.  27.  30.]\n",
      " [  4.   8.  12.  16.  20.  24.  28.  32.  36.  40.]\n",
      " [  5.  10.  15.  20.  25.  30.  35.  40.  45.  50.]\n",
      " [  6.  12.  18.  24.  30.  36.  42.  48.  54.  60.]\n",
      " [  7.  14.  21.  28.  35.  42.  49.  56.  63.  70.]\n",
      " [  8.  16.  24.  32.  40.  48.  56.  64.  72.  80.]\n",
      " [  9.  18.  27.  36.  45.  54.  63.  72.  81.  90.]\n",
      " [ 10.  20.  30.  40.  50.  60.  70.  80.  90. 100.]]\n"
     ]
    }
   ],
   "source": [
    "mult_table = np.zeros((10, 10))\n",
    "\n",
    "for i in range(10):\n",
    "    for j in range(10):\n",
    "        mult_table[i,j] = (i+1)*(j+1)\n",
    "        \n",
    "print(mult_table)"
   ]
  },
  {
   "cell_type": "markdown",
   "metadata": {},
   "source": [
    "Although we have just considered one- and two-dimensional arrays so far, they can have arbitrary dimension (though they get harder to visualize as the dimension gets higher). Here we'll make a three-dimensional array of zeros and print its shape."
   ]
  },
  {
   "cell_type": "code",
   "execution_count": 74,
   "metadata": {},
   "outputs": [
    {
     "name": "stdout",
     "output_type": "stream",
     "text": [
      "(3, 4, 5)\n"
     ]
    }
   ],
   "source": [
    "a7 = np.zeros((3,4,5))\n",
    "print(np.shape(a7))"
   ]
  },
  {
   "cell_type": "markdown",
   "metadata": {},
   "source": [
    "Another very useful way to create an array is using `arange`, which creates a one-dimensional array of ordered elements (similar to `range`, which we encountered above).\n",
    "\n",
    "If there's one number as input, `arange` creates an array of integers up to (but not including) that number, starting from 0:"
   ]
  },
  {
   "cell_type": "code",
   "execution_count": 75,
   "metadata": {},
   "outputs": [
    {
     "name": "stdout",
     "output_type": "stream",
     "text": [
      "[0 1 2 3 4 5 6 7 8 9]\n"
     ]
    }
   ],
   "source": [
    "print(np.arange(10))"
   ]
  },
  {
   "cell_type": "markdown",
   "metadata": {},
   "source": [
    "If there are two inputs, it creates an array of integers from the first to the second number:"
   ]
  },
  {
   "cell_type": "code",
   "execution_count": 77,
   "metadata": {},
   "outputs": [
    {
     "name": "stdout",
     "output_type": "stream",
     "text": [
      "[ 5  6  7  8  9 10 11 12 13 14]\n"
     ]
    }
   ],
   "source": [
    "print(np.arange(5, 15))"
   ]
  },
  {
   "cell_type": "markdown",
   "metadata": {},
   "source": [
    "Finally, if three numbers are given as input, the third input determines the spacing between successive numbers in the array:"
   ]
  },
  {
   "cell_type": "code",
   "execution_count": 78,
   "metadata": {},
   "outputs": [
    {
     "name": "stdout",
     "output_type": "stream",
     "text": [
      "[0.  0.2 0.4 0.6 0.8 1.  1.2 1.4 1.6 1.8 2.  2.2 2.4 2.6 2.8 3.  3.2 3.4\n",
      " 3.6 3.8 4.  4.2 4.4 4.6 4.8]\n"
     ]
    }
   ],
   "source": [
    "print(np.arange(0, 5, 0.2))"
   ]
  },
  {
   "cell_type": "markdown",
   "metadata": {},
   "source": [
    "Another often useful way to create an array is to fill it with random values. The most common ways to do this are to use `np.random.rand` to generate random values distributed uniformly over (0,1), or `np.random.randn` to generate random values from the standard normal distribution (i.e. a bell-shaped distribution centered at 0)."
   ]
  },
  {
   "cell_type": "code",
   "execution_count": 138,
   "metadata": {},
   "outputs": [
    {
     "name": "stdout",
     "output_type": "stream",
     "text": [
      "A single random number: \n",
      " 0.8826516819514088\n",
      "A one-dimensional array of random numbers: \n",
      " [0.54269405 0.9433668  0.25145202 0.21790707 0.91719616]\n",
      "A two-dimensional array of random numbers: \n",
      " [[0.49201526 0.56765539 0.12081326 0.85324537 0.93934432]\n",
      " [0.65069046 0.12350693 0.17033035 0.35748201 0.86713445]\n",
      " [0.63428245 0.19148387 0.65755441 0.08266988 0.44240983]\n",
      " [0.12005445 0.36922269 0.08394645 0.01401078 0.27984905]\n",
      " [0.20047974 0.22558214 0.15593987 0.98358308 0.97827941]]\n"
     ]
    }
   ],
   "source": [
    "print('A single random number: \\n', np.random.rand())\n",
    "print('A one-dimensional array of random numbers: \\n', np.random.rand(5))\n",
    "print('A two-dimensional array of random numbers: \\n', np.random.rand(5,5))"
   ]
  },
  {
   "cell_type": "markdown",
   "metadata": {},
   "source": [
    "## Exercises\n",
    "\n",
    "6.1. Create a 5-by-5 array of zeros, then use a for loop to set all of the diagonal elements to 1."
   ]
  },
  {
   "cell_type": "code",
   "execution_count": null,
   "metadata": {},
   "outputs": [],
   "source": []
  },
  {
   "cell_type": "markdown",
   "metadata": {},
   "source": [
    "6.2. Create a 5-by-5 array of zeros, then use slicing and `np.ones` to set every element in the middle column to 1.\n"
   ]
  },
  {
   "cell_type": "code",
   "execution_count": null,
   "metadata": {},
   "outputs": [],
   "source": []
  },
  {
   "cell_type": "markdown",
   "metadata": {},
   "source": [
    "6.3. Create an array of zeros of length 10. Set the first element to zero and the second element to 1. Then use a for loop to set the remaining elements to the Fibonnaci sequence, in which each element is the sum of the two elements that came before it. Print the resulting array. Is the last element 34?"
   ]
  },
  {
   "cell_type": "code",
   "execution_count": null,
   "metadata": {},
   "outputs": [],
   "source": []
  },
  {
   "cell_type": "markdown",
   "metadata": {},
   "source": [
    "## Arithemetic with arrays"
   ]
  },
  {
   "cell_type": "markdown",
   "metadata": {},
   "source": [
    "As mentioned above, Numpy arrays can be thought of as vectors (and their higher-dimensional counterparts). \n",
    "\n",
    "The first important property of a vector is that we can add or subtract two vectors together and get another vector of the same shape. Vector addition just means that each component of the first vector is added to the corresponding component of the second vector, as in the following example."
   ]
  },
  {
   "cell_type": "code",
   "execution_count": 85,
   "metadata": {},
   "outputs": [
    {
     "name": "stdout",
     "output_type": "stream",
     "text": [
      "[0. 1. 2. 3. 4. 5. 6. 7. 8. 9.]\n",
      "[1. 1. 1. 1. 1. 1. 1. 1. 1. 1.]\n",
      "[ 1.  2.  3.  4.  5.  6.  7.  8.  9. 10.]\n"
     ]
    }
   ],
   "source": [
    "b1 = np.arange(10.)  # Note: using 10. rather than 10 means the array is filled with float numbers rather than integers\n",
    "b2 = np.ones(10)\n",
    "b3 = b1 + b2\n",
    "print(b1)\n",
    "print(b2)\n",
    "print(b3)"
   ]
  },
  {
   "cell_type": "markdown",
   "metadata": {},
   "source": [
    "The second important property of a vector is that we can multiply a vector by a number and get back a vector of the same type. In this case, the number that multiplies the vector simply multiplies each individual element in the vector, as in the following example."
   ]
  },
  {
   "cell_type": "code",
   "execution_count": 83,
   "metadata": {},
   "outputs": [
    {
     "name": "stdout",
     "output_type": "stream",
     "text": [
      "[0 1 2 3 4 5 6 7 8 9]\n",
      "[ 0  3  6  9 12 15 18 21 24 27]\n"
     ]
    }
   ],
   "source": [
    "b1 = np.arange(10.)\n",
    "b4 = 3*b1\n",
    "print(b1)\n",
    "print(b4)"
   ]
  },
  {
   "cell_type": "markdown",
   "metadata": {},
   "source": [
    "Other basic arithemetic operations work in a similar way, element by element. One important thing to note is that the multiplication operator `*`, when applied to two vectors, refers to elementwise multiplication."
   ]
  },
  {
   "cell_type": "code",
   "execution_count": 86,
   "metadata": {},
   "outputs": [
    {
     "name": "stdout",
     "output_type": "stream",
     "text": [
      "[0. 1. 2. 3. 4. 5. 6. 7. 8. 9.]\n",
      "[2. 2. 2. 2. 2. 2. 2. 2. 2. 2.]\n",
      "[ 0.  2.  4.  6.  8. 10. 12. 14. 16. 18.]\n"
     ]
    }
   ],
   "source": [
    "b1 = np.arange(10.)\n",
    "b5 = 2*np.ones(10)\n",
    "b6 = b1*b5\n",
    "print(b1)\n",
    "print(b5)\n",
    "print(b6)"
   ]
  },
  {
   "cell_type": "markdown",
   "metadata": {},
   "source": [
    "This is a potential point of confusion for Matlab users, where applying the `*` operator to two vectors gives a dot product (i.e. elementwise multiplication followed by a sum over all elements) for vectors or a matrix product for products involving matrices. To take a dot product with Numpy, use either `np.dot` or `@`."
   ]
  },
  {
   "cell_type": "code",
   "execution_count": 87,
   "metadata": {},
   "outputs": [
    {
     "name": "stdout",
     "output_type": "stream",
     "text": [
      "[ 4. 10. 18.]\n",
      "32.0\n",
      "32.0\n"
     ]
    }
   ],
   "source": [
    "b7 = np.array([1., 2., 3.])\n",
    "b8 = np.array([4., 5., 6.])\n",
    "print(b7*b8)\n",
    "print(np.dot(b7, b8))\n",
    "print(b7 @ b8)"
   ]
  },
  {
   "cell_type": "markdown",
   "metadata": {},
   "source": [
    "The extension of the above ideas to multidimensional arrays is straightforward, as illustrated by the following examples."
   ]
  },
  {
   "cell_type": "code",
   "execution_count": 101,
   "metadata": {},
   "outputs": [
    {
     "name": "stdout",
     "output_type": "stream",
     "text": [
      "Addition: \n",
      " [[ 1.  5.  9.]\n",
      " [13. 17. 21.]]\n",
      "Scalar multiplication: \n",
      " [[ -0.  -2.  -4.]\n",
      " [ -6.  -8. -10.]]\n",
      "(Elementwise) matrix multiplication: \n",
      " [[  0.   6.  20.]\n",
      " [ 42.  72. 110.]]\n"
     ]
    }
   ],
   "source": [
    "b9 = np.array([[0., 2., 4.],\n",
    "              [6., 8., 10.]])\n",
    "b10 = np.array([[1., 3., 5.],\n",
    "                [7., 9., 11.]])\n",
    "\n",
    "print('Addition: \\n', b9 + b10)  # Note: when occurring inside of a string, `\\n` means start a new line\n",
    "print('Scalar multiplication: \\n', -1*b9)\n",
    "print('(Elementwise) matrix multiplication: \\n', b9 * b10)"
   ]
  },
  {
   "cell_type": "markdown",
   "metadata": {},
   "source": [
    "Be careful to note that, typically, only arrays of the same size can be combined. Trying to combine them will result in an error."
   ]
  },
  {
   "cell_type": "code",
   "execution_count": 88,
   "metadata": {},
   "outputs": [
    {
     "ename": "ValueError",
     "evalue": "operands could not be broadcast together with shapes (3,) (2,) ",
     "output_type": "error",
     "traceback": [
      "\u001b[0;31m---------------------------------------------------------------------------\u001b[0m",
      "\u001b[0;31mValueError\u001b[0m                                Traceback (most recent call last)",
      "\u001b[0;32m<ipython-input-88-982df4bb4e7e>\u001b[0m in \u001b[0;36m<module>\u001b[0;34m\u001b[0m\n\u001b[1;32m      1\u001b[0m \u001b[0mb7\u001b[0m \u001b[0;34m=\u001b[0m \u001b[0mnp\u001b[0m\u001b[0;34m.\u001b[0m\u001b[0marray\u001b[0m\u001b[0;34m(\u001b[0m\u001b[0;34m[\u001b[0m\u001b[0;36m1.\u001b[0m\u001b[0;34m,\u001b[0m \u001b[0;36m2.\u001b[0m\u001b[0;34m,\u001b[0m \u001b[0;36m3.\u001b[0m\u001b[0;34m]\u001b[0m\u001b[0;34m)\u001b[0m\u001b[0;34m\u001b[0m\u001b[0;34m\u001b[0m\u001b[0m\n\u001b[1;32m      2\u001b[0m \u001b[0mb10\u001b[0m \u001b[0;34m=\u001b[0m \u001b[0mnp\u001b[0m\u001b[0;34m.\u001b[0m\u001b[0marray\u001b[0m\u001b[0;34m(\u001b[0m\u001b[0;34m[\u001b[0m\u001b[0;36m4.\u001b[0m\u001b[0;34m,\u001b[0m \u001b[0;36m5.\u001b[0m\u001b[0;34m]\u001b[0m\u001b[0;34m)\u001b[0m\u001b[0;34m\u001b[0m\u001b[0;34m\u001b[0m\u001b[0m\n\u001b[0;32m----> 3\u001b[0;31m \u001b[0mprint\u001b[0m\u001b[0;34m(\u001b[0m\u001b[0mb7\u001b[0m \u001b[0;34m+\u001b[0m \u001b[0mb10\u001b[0m\u001b[0;34m)\u001b[0m\u001b[0;34m\u001b[0m\u001b[0;34m\u001b[0m\u001b[0m\n\u001b[0m",
      "\u001b[0;31mValueError\u001b[0m: operands could not be broadcast together with shapes (3,) (2,) "
     ]
    }
   ],
   "source": [
    "b7 = np.array([1., 2., 3.])\n",
    "b10 = np.array([4., 5.])\n",
    "\n",
    "# Uncomment the line below and run the cell to see the error message:\n",
    "#print(b7 + b10)"
   ]
  },
  {
   "cell_type": "markdown",
   "metadata": {},
   "source": [
    "An exception to this rule is **broadcasting**, as illustrated in the following examples."
   ]
  },
  {
   "cell_type": "code",
   "execution_count": 90,
   "metadata": {},
   "outputs": [
    {
     "name": "stdout",
     "output_type": "stream",
     "text": [
      "[2.5 3.5 4.5]\n"
     ]
    }
   ],
   "source": [
    "# A scalar can be broadcast with a vector:\n",
    "\n",
    "b7 = np.array([1., 2., 3.])\n",
    "b11 = 1.5 + b7  # The same value (1.5) is \"broadcast\" to combine with each indivicual element of b7\n",
    "print(b11)"
   ]
  },
  {
   "cell_type": "code",
   "execution_count": 92,
   "metadata": {},
   "outputs": [
    {
     "name": "stdout",
     "output_type": "stream",
     "text": [
      "[[ 3.  6.  9.]\n",
      " [ 9. 12. 15.]]\n"
     ]
    }
   ],
   "source": [
    "# A vector can be broadcast with a matrix (of compatible dimensions):\n",
    "\n",
    "b7 = np.array([1., 2., 3.])\n",
    "b12 = np.array([[2, 4, 6],\n",
    "              [8, 10, 12]])\n",
    "b13 = b7 + b12  # The same three values from b7 are \"broadcast\" into each individual row of b12\n",
    "print(b13)"
   ]
  },
  {
   "cell_type": "markdown",
   "metadata": {},
   "source": [
    "If broadcasting seems a bit confusing, feel free not to use it in your own code. It can be a handy shortcut, but there are always other ways to combine arrays in which broadcasting isn't necessary."
   ]
  },
  {
   "cell_type": "markdown",
   "metadata": {},
   "source": [
    "## Exercises\n",
    "\n",
    "6.4. Use vector addition and scalar multiplication to convert the array of Celsius temperatures below to a new array of Fahrenheit temperatures and print the resulting array."
   ]
  },
  {
   "cell_type": "code",
   "execution_count": null,
   "metadata": {},
   "outputs": [],
   "source": [
    "celsius = np.array([0., 10., 20., 30.])\n",
    "\n",
    "### Your code here ###"
   ]
  },
  {
   "cell_type": "markdown",
   "metadata": {},
   "source": [
    "6.5. Using `b7 = np.array([1., 2., 3.])` and `b8 = np.array([4., 5., 6.])` as above, make guesses about what answers you expect the following to give:\n",
    "\n",
    "    - `b8 - b7` (subtraction)\n",
    "    - `b7 / b8` (division)\n",
    "    - `b7**2` (exponentiation)\n",
    "\n",
    "In each case, check whether your guesses were right."
   ]
  },
  {
   "cell_type": "code",
   "execution_count": null,
   "metadata": {},
   "outputs": [],
   "source": []
  },
  {
   "cell_type": "markdown",
   "metadata": {},
   "source": [
    "## Masking and fancy indexing"
   ]
  },
  {
   "cell_type": "markdown",
   "metadata": {},
   "source": [
    "A **mask** enables us to select elements of an array that satisfy a certain condition. In the example below, we will select just the even elements in an array."
   ]
  },
  {
   "cell_type": "code",
   "execution_count": 3,
   "metadata": {},
   "outputs": [
    {
     "name": "stdout",
     "output_type": "stream",
     "text": [
      "[0 1 2 3 4 5 6 7 8 9]\n",
      "[ True False  True False  True False  True False  True False]\n"
     ]
    }
   ],
   "source": [
    "b14 = np.arange(10)\n",
    "print(b14)\n",
    "mask = (b14%2 == 0)  # The right hand side is True for elements that have remainder 0 when divided by 2\n",
    "print(mask)\n"
   ]
  },
  {
   "cell_type": "markdown",
   "metadata": {},
   "source": [
    "Now we can use this mask to select only the elements of `b14` for which the condition is True."
   ]
  },
  {
   "cell_type": "code",
   "execution_count": 4,
   "metadata": {},
   "outputs": [
    {
     "name": "stdout",
     "output_type": "stream",
     "text": [
      "[0 2 4 6 8]\n",
      "[0 2 4 6 8]\n"
     ]
    }
   ],
   "source": [
    "print(b14[mask])\n",
    "\n",
    "# Note that we could also get the same thing without defining mask as a variable:\n",
    "print(b14[b14%2==0])"
   ]
  },
  {
   "cell_type": "markdown",
   "metadata": {},
   "source": [
    "We could also choose to set the elements selected by the mask to some other value:"
   ]
  },
  {
   "cell_type": "code",
   "execution_count": 5,
   "metadata": {},
   "outputs": [
    {
     "name": "stdout",
     "output_type": "stream",
     "text": [
      "[0 1 0 3 0 5 0 7 0 9]\n"
     ]
    }
   ],
   "source": [
    "b14[mask] = np.zeros(5)\n",
    "print(b14)"
   ]
  },
  {
   "cell_type": "markdown",
   "metadata": {},
   "source": [
    "In fact, we can do the same thing in a simpler way using broadcasting:"
   ]
  },
  {
   "cell_type": "code",
   "execution_count": 6,
   "metadata": {},
   "outputs": [
    {
     "name": "stdout",
     "output_type": "stream",
     "text": [
      "[0 1 0 3 0 5 0 7 0 9]\n"
     ]
    }
   ],
   "source": [
    "b14 = np.arange(10)\n",
    "b14[mask] = 0\n",
    "print(b14)"
   ]
  },
  {
   "cell_type": "markdown",
   "metadata": {},
   "source": [
    "Let's say that we have an array or list `indices_list` giving the indices that we would like to extract from another array. We can do this using **fancy indexing** as follows."
   ]
  },
  {
   "cell_type": "code",
   "execution_count": 107,
   "metadata": {},
   "outputs": [
    {
     "name": "stdout",
     "output_type": "stream",
     "text": [
      "[1 3 9 9]\n",
      "[1 3 9 9]\n"
     ]
    }
   ],
   "source": [
    "b15 = np.array([1, 3, 5, 7, 9])\n",
    "indices_list = [0, 1, 4, 4]  # some indices of the above array that we care about\n",
    "print(b15[indices_list])\n",
    "\n",
    "# Note that we can also just skip defining indices_list and get the same result with the following:\n",
    "print(b15[[0, 1, 4, 4]])"
   ]
  },
  {
   "cell_type": "markdown",
   "metadata": {},
   "source": [
    "## Exercises\n",
    "\n",
    "6.6. In an earlier exercise, we created an array of the first 10 Fibonacci numbers. Use a mask to create separate arrays of even and odd Fibonacci numbers and print the two resulting arrays."
   ]
  },
  {
   "cell_type": "code",
   "execution_count": null,
   "metadata": {},
   "outputs": [],
   "source": []
  },
  {
   "cell_type": "markdown",
   "metadata": {},
   "source": [
    "6.7. Create an array of 20 random numbers using `np.random.randn()`. Then use a mask to set all of the negative numbers in the array to zero and print the result."
   ]
  },
  {
   "cell_type": "code",
   "execution_count": 2,
   "metadata": {},
   "outputs": [
    {
     "name": "stdout",
     "output_type": "stream",
     "text": [
      "[0.20148352 0.         0.         1.25180229 2.10998363 0.51867826\n",
      " 0.3611348  1.26580353 0.         0.08025965 0.43500321 0.36770453\n",
      " 0.         1.28115736 0.         0.         0.         0.47894742\n",
      " 1.52720956 0.        ]\n"
     ]
    }
   ],
   "source": [
    "import numpy as np\n",
    "bb = np.random.randn(20)\n",
    "bb[bb<0] = 0\n",
    "print(bb)"
   ]
  },
  {
   "cell_type": "markdown",
   "metadata": {},
   "source": [
    "## Other operations on arrays"
   ]
  },
  {
   "cell_type": "markdown",
   "metadata": {},
   "source": [
    "Numpy has lots of built-in functions that are useful for using with arrays. Below are a few examples."
   ]
  },
  {
   "cell_type": "code",
   "execution_count": 108,
   "metadata": {},
   "outputs": [
    {
     "name": "stdout",
     "output_type": "stream",
     "text": [
      "Mean:  5.0\n",
      "Max:  9\n",
      "Min:  1\n",
      "Sum:  25\n"
     ]
    }
   ],
   "source": [
    "b15 = np.array([1, 3, 5, 7, 9])\n",
    "\n",
    "print('Mean: ', np.mean(b15))\n",
    "print('Max: ', np.max(b15))\n",
    "print('Min: ', np.min(b15))\n",
    "print('Sum: ', np.sum(b15))"
   ]
  },
  {
   "cell_type": "markdown",
   "metadata": {},
   "source": [
    "When applying operations like these to a multidimensional array, we might want to apply them separately in each row or column (i.e. along each \"axis\"). All of the built-in functions above can take a second argument that specifies which axis to perform the operation along."
   ]
  },
  {
   "cell_type": "code",
   "execution_count": 111,
   "metadata": {},
   "outputs": [
    {
     "name": "stdout",
     "output_type": "stream",
     "text": [
      "[[ 2  4  6]\n",
      " [ 8 10 12]]\n",
      "Mean of all elements:  7.0\n",
      "Mean over columns:  [5. 7. 9.]\n",
      "Mean over rows:  [ 4. 10.]\n"
     ]
    }
   ],
   "source": [
    "b12 = np.array([[2, 4, 6],\n",
    "              [8, 10, 12]])\n",
    "print(b12)\n",
    "print('Mean of all elements: ', np.mean(b12))\n",
    "print('Mean over columns: ', np.mean(b12, axis=0))\n",
    "print('Mean over rows: ', np.mean(b12, axis=1))"
   ]
  },
  {
   "cell_type": "markdown",
   "metadata": {},
   "source": [
    "If a function like `np.sin` or `np.cos` is applied to an array, it operates elementwise on each element. Let's illustrate this by taking a spin around the unit circle."
   ]
  },
  {
   "cell_type": "code",
   "execution_count": 116,
   "metadata": {},
   "outputs": [
    {
     "name": "stdout",
     "output_type": "stream",
     "text": [
      "[ 1.0000000e+00  6.1232340e-17 -1.0000000e+00 -1.8369702e-16]\n"
     ]
    }
   ],
   "source": [
    "theta_array = np.array([0, np.pi/2, np.pi, 3*np.pi/2])\n",
    "cos_theta = np.cos(theta_array)\n",
    "print(cos_theta)"
   ]
  },
  {
   "cell_type": "markdown",
   "metadata": {},
   "source": [
    "## Exercises\n",
    "\n",
    "6.8. Use `np.arange` and `np.sum` to add up all of the numbers from 1 to 100. Check that you get the same answer this way that you got using the for loop above."
   ]
  },
  {
   "cell_type": "code",
   "execution_count": null,
   "metadata": {},
   "outputs": [],
   "source": []
  },
  {
   "cell_type": "markdown",
   "metadata": {},
   "source": [
    "6.9. Use `np.random.rand()` to create an array of 1000 random numbers uniformly distributed between 0 and 1. Compute the mean first using `np.mean()` and second by using `np.sum()` and dividing by the length of the array, showing that both give the same result. Is the resulting value close to the value that you would expect?"
   ]
  },
  {
   "cell_type": "code",
   "execution_count": null,
   "metadata": {},
   "outputs": [],
   "source": []
  },
  {
   "cell_type": "markdown",
   "metadata": {},
   "source": [
    "## Getting help"
   ]
  },
  {
   "cell_type": "markdown",
   "metadata": {},
   "source": [
    "If you would like to know more about a built-in Python function, just type its name followed by a question mark to view its documentation, which describes what the allowed inputs are, as well as what the function returns."
   ]
  },
  {
   "cell_type": "code",
   "execution_count": 113,
   "metadata": {},
   "outputs": [],
   "source": [
    "np.mean?"
   ]
  },
  {
   "cell_type": "markdown",
   "metadata": {},
   "source": [
    "Try taking a look at the documentation of some other Numpy functions, such as `np.max`, `np.argmax`, or `np.sin`."
   ]
  },
  {
   "cell_type": "code",
   "execution_count": null,
   "metadata": {},
   "outputs": [],
   "source": []
  },
  {
   "cell_type": "markdown",
   "metadata": {},
   "source": [
    "# 7. Plotting with Matplotlib"
   ]
  },
  {
   "cell_type": "markdown",
   "metadata": {},
   "source": [
    "Just as Python contains the library Numpy for numerical computation, it also contains a library called Matplotlib and a sublibrary called Pyplot for making plots to visualize data. We can import it as follows:"
   ]
  },
  {
   "cell_type": "code",
   "execution_count": 16,
   "metadata": {},
   "outputs": [],
   "source": [
    "import matplotlib.pyplot as plt"
   ]
  },
  {
   "cell_type": "markdown",
   "metadata": {},
   "source": [
    "There are no exercises in this section, but it's still a good idea to look through the examples carefully and experiment with making some changes to test your understanding."
   ]
  },
  {
   "cell_type": "markdown",
   "metadata": {},
   "source": [
    "## Plotting lines and points"
   ]
  },
  {
   "cell_type": "markdown",
   "metadata": {},
   "source": [
    "Let's start by plotting a line of evenly spaced x values and their corresponding y values."
   ]
  },
  {
   "cell_type": "code",
   "execution_count": 122,
   "metadata": {},
   "outputs": [
    {
     "data": {
      "text/plain": [
       "[<matplotlib.lines.Line2D at 0x7fe4cc465550>]"
      ]
     },
     "execution_count": 122,
     "metadata": {},
     "output_type": "execute_result"
    },
    {
     "data": {
      "image/png": "[encoded data removed]",
      "text/plain": [
       "<Figure size 432x288 with 1 Axes>"
      ]
     },
     "metadata": {
      "needs_background": "light"
     },
     "output_type": "display_data"
    }
   ],
   "source": [
    "x = np.arange(0, 4*np.pi, 0.1)\n",
    "y = np.sin(x)\n",
    "plt.plot(x, y)"
   ]
  },
  {
   "cell_type": "markdown",
   "metadata": {},
   "source": [
    "Of course, it's always good practice to label our axes. Let's do this and also give the plot a title."
   ]
  },
  {
   "cell_type": "code",
   "execution_count": 123,
   "metadata": {},
   "outputs": [
    {
     "data": {
      "text/plain": [
       "Text(0.5, 1.0, 'A sine wave')"
      ]
     },
     "execution_count": 123,
     "metadata": {},
     "output_type": "execute_result"
    },
    {
     "data": {
      "image/png": "[encoded data removed]",
      "text/plain": [
       "<Figure size 432x288 with 1 Axes>"
      ]
     },
     "metadata": {
      "needs_background": "light"
     },
     "output_type": "display_data"
    }
   ],
   "source": [
    "x = np.arange(0, 4*np.pi, 0.1)\n",
    "y = np.sin(x)\n",
    "plt.plot(x, y)\n",
    "plt.xlabel('x')\n",
    "plt.ylabel('y')\n",
    "plt.title('A sine wave')"
   ]
  },
  {
   "cell_type": "markdown",
   "metadata": {},
   "source": [
    "If we don't want all of the points to be connected with lines, we can include an extra argument in `plt.plot` that specifies what kind of point we want to be plotted."
   ]
  },
  {
   "cell_type": "code",
   "execution_count": 139,
   "metadata": {},
   "outputs": [
    {
     "data": {
      "text/plain": [
       "Text(0.5, 1.0, 'A sine wave')"
      ]
     },
     "execution_count": 139,
     "metadata": {},
     "output_type": "execute_result"
    },
    {
     "data": {
      "image/png": "[encoded data removed]",
      "text/plain": [
       "<Figure size 432x288 with 1 Axes>"
      ]
     },
     "metadata": {
      "needs_background": "light"
     },
     "output_type": "display_data"
    }
   ],
   "source": [
    "x = np.arange(0, 4*np.pi, 0.1)\n",
    "y = np.sin(x)\n",
    "plt.plot(x, y, 'o')  # also try replacing 'o' by 's' or '.' or '--'\n",
    "plt.xlabel('x')\n",
    "plt.ylabel('y')\n",
    "plt.title('A sine wave')"
   ]
  },
  {
   "cell_type": "markdown",
   "metadata": {},
   "source": [
    "We can also plot two curves in the same figure."
   ]
  },
  {
   "cell_type": "code",
   "execution_count": 136,
   "metadata": {},
   "outputs": [
    {
     "data": {
      "text/plain": [
       "Text(0.5, 1.0, 'Sine and cosine')"
      ]
     },
     "execution_count": 136,
     "metadata": {},
     "output_type": "execute_result"
    },
    {
     "data": {
      "image/png": "[encoded data removed]",
      "text/plain": [
       "<Figure size 432x288 with 1 Axes>"
      ]
     },
     "metadata": {
      "needs_background": "light"
     },
     "output_type": "display_data"
    }
   ],
   "source": [
    "x = np.arange(0, 4*np.pi, 0.1)\n",
    "y1 = np.sin(x)\n",
    "y2 = np.cos(x)\n",
    "plt.plot(x, y1)\n",
    "plt.plot(x, y2)\n",
    "plt.xlabel('x')\n",
    "plt.ylabel('y1, y2')\n",
    "plt.title('Sine and cosine')"
   ]
  },
  {
   "cell_type": "markdown",
   "metadata": {},
   "source": [
    "Each curve is automatically plotted in a different color, but we can customize colors and even add a legend if we want."
   ]
  },
  {
   "cell_type": "code",
   "execution_count": 137,
   "metadata": {},
   "outputs": [
    {
     "data": {
      "text/plain": [
       "<matplotlib.legend.Legend at 0x7fe4cd35a290>"
      ]
     },
     "execution_count": 137,
     "metadata": {},
     "output_type": "execute_result"
    },
    {
     "data": {
      "image/png": "[encoded data removed]",
      "text/plain": [
       "<Figure size 432x288 with 1 Axes>"
      ]
     },
     "metadata": {
      "needs_background": "light"
     },
     "output_type": "display_data"
    }
   ],
   "source": [
    "x = np.arange(0, 4*np.pi, 0.1)\n",
    "y1 = np.sin(x)\n",
    "y2 = np.cos(x)\n",
    "plt.plot(x, y1, color='r')\n",
    "plt.plot(x, y2, color='g')\n",
    "plt.xlabel('x')\n",
    "plt.ylabel('y1, y2')\n",
    "plt.title('Sine and cosine')\n",
    "plt.legend(['Sine', 'Cosine'])"
   ]
  },
  {
   "cell_type": "markdown",
   "metadata": {},
   "source": [
    "Matplotlib offers many, many ways to customize your plots. Take a look at lots and lots of examples here: https://matplotlib.org/2.0.2/gallery.html"
   ]
  },
  {
   "cell_type": "markdown",
   "metadata": {},
   "source": [
    "## Histograms"
   ]
  },
  {
   "cell_type": "markdown",
   "metadata": {},
   "source": [
    "A histogram allows us to see how data is distributed, with the height of each bar showing how many of the data points fall within each \"bin\". Let's generate an array of random numbers from a uniform distribution and check that we get about the same number of counts in each bin."
   ]
  },
  {
   "cell_type": "code",
   "execution_count": 141,
   "metadata": {},
   "outputs": [
    {
     "data": {
      "text/plain": [
       "Text(0, 0.5, 'count')"
      ]
     },
     "execution_count": 141,
     "metadata": {},
     "output_type": "execute_result"
    },
    {
     "data": {
      "image/png": "[encoded data removed]",
      "text/plain": [
       "<Figure size 432x288 with 1 Axes>"
      ]
     },
     "metadata": {
      "needs_background": "light"
     },
     "output_type": "display_data"
    }
   ],
   "source": [
    "x = np.random.rand(10000)\n",
    "plt.hist(x)\n",
    "plt.xlabel('x')\n",
    "plt.ylabel('count')"
   ]
  },
  {
   "cell_type": "markdown",
   "metadata": {},
   "source": [
    "## Visualizing matrices"
   ]
  },
  {
   "cell_type": "markdown",
   "metadata": {},
   "source": [
    "A common way to visualize two-dimensional data is as a color-coded matrix, also known as a heat map. This can be done using `plt.imshow`."
   ]
  },
  {
   "cell_type": "code",
   "execution_count": 18,
   "metadata": {},
   "outputs": [
    {
     "data": {
      "text/plain": [
       "<matplotlib.colorbar.Colorbar at 0x7ffcf93e09e8>"
      ]
     },
     "execution_count": 18,
     "metadata": {},
     "output_type": "execute_result"
    },
    {
     "data": {
      "image/png": "[encoded data removed]",
      "text/plain": [
       "<Figure size 432x288 with 2 Axes>"
      ]
     },
     "metadata": {
      "needs_background": "light"
     },
     "output_type": "display_data"
    }
   ],
   "source": [
    "x = np.random.rand(20, 20)\n",
    "plt.imshow(x)\n",
    "plt.colorbar()  # This creates the color bar on the right hand side so we know what the colors mean"
   ]
  },
  {
   "cell_type": "markdown",
   "metadata": {},
   "source": [
    "## Subplots"
   ]
  },
  {
   "cell_type": "markdown",
   "metadata": {},
   "source": [
    "We can make subplots within the same plot. In the following examples, we'll illustrate two different distributions of random numbers in two different subplots. We'll also increase the number of bins in the histogram plots to show the distributions in more detail."
   ]
  },
  {
   "cell_type": "code",
   "execution_count": 153,
   "metadata": {},
   "outputs": [
    {
     "data": {
      "text/plain": [
       "Text(0.5, 0, 'x')"
      ]
     },
     "execution_count": 153,
     "metadata": {},
     "output_type": "execute_result"
    },
    {
     "data": {
      "image/png": "[encoded data removed]",
      "text/plain": [
       "<Figure size 432x288 with 2 Axes>"
      ]
     },
     "metadata": {
      "needs_background": "light"
     },
     "output_type": "display_data"
    }
   ],
   "source": [
    "# Generate some random data:\n",
    "x1 = np.random.rand(10000)\n",
    "x2 = np.random.randn(10000)\n",
    "\n",
    "# The first subplot:\n",
    "plt.subplot(121) # the three numbers refer to the number of rows, number of columns, and which subplot we're making\n",
    "plt.hist(x1, bins=30)\n",
    "plt.title('Uniform')\n",
    "plt.xlabel('x')\n",
    "plt.ylabel('Count')\n",
    "\n",
    "# The second subplot:\n",
    "plt.subplot(122)\n",
    "plt.hist(x2, bins=30)\n",
    "plt.title('Normal')\n",
    "plt.xlabel('x')\n",
    "\n",
    "# Pro tip: The following line makes everything fit together more nicely. \n",
    "# Try uncommenting it and compare the difference:\n",
    "# plt.tight_layout()"
   ]
  },
  {
   "cell_type": "markdown",
   "metadata": {},
   "source": [
    "## Error bars"
   ]
  },
  {
   "cell_type": "markdown",
   "metadata": {},
   "source": [
    "When we are working with actual data, we will often want to average it (e.g. averaging over trials in a neuroscience experiment) and include error bars to illustrate how spread out the data is. Let's create some fake data in which the underlying signal is a sine wave, and each trial has noise added to it. Then we'll plot the trial-averaged data together with error bars used to denote the standard deviation. This example will also include some of what we've learned about using for loops and performing operations over arrays."
   ]
  },
  {
   "cell_type": "code",
   "execution_count": 169,
   "metadata": {},
   "outputs": [
    {
     "data": {
      "text/plain": [
       "Text(0, 0.5, 'y')"
      ]
     },
     "execution_count": 169,
     "metadata": {},
     "output_type": "execute_result"
    },
    {
     "data": {
      "image/png": "[encoded data removed]",
      "text/plain": [
       "<Figure size 432x288 with 1 Axes>"
      ]
     },
     "metadata": {
      "needs_background": "light"
     },
     "output_type": "display_data"
    }
   ],
   "source": [
    "# Generate some fake data:\n",
    "t = np.arange(0, 2*np.pi, 0.2)\n",
    "signal = np.sin(t)\n",
    "n_timesteps = len(t)\n",
    "n_trials = 20\n",
    "y = np.zeros((n_trials, n_timesteps))\n",
    "\n",
    "# Add noise to the signal:\n",
    "for i in range(n_trials):\n",
    "    y[i,:] = signal + 0.2*np.random.randn(n_timesteps)\n",
    "\n",
    "# Compute the mean and standard deviation over trials:\n",
    "y_mean = np.mean(y, axis=0)\n",
    "y_std = np.std(y, axis=0)\n",
    "\n",
    "# Make the plot:\n",
    "plt.errorbar(t, y_mean, yerr=y_std, fmt='o')\n",
    "plt.xlabel('t')\n",
    "plt.ylabel('y')"
   ]
  },
  {
   "cell_type": "code",
   "execution_count": null,
   "metadata": {},
   "outputs": [],
   "source": []
  }
 ],
 "metadata": {
  "kernelspec": {
   "display_name": "Python 3",
   "language": "python",
   "name": "python3"
  },
  "language_info": {
   "codemirror_mode": {
    "name": "ipython",
    "version": 3
   },
   "file_extension": ".py",
   "mimetype": "text/x-python",
   "name": "python",
   "nbconvert_exporter": "python",
   "pygments_lexer": "ipython3",
   "version": "3.7.10"
  }
 },
 "nbformat": 4,
 "nbformat_minor": 4
}
